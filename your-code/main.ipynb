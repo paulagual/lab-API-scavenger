{
 "cells": [
  {
   "cell_type": "markdown",
   "metadata": {},
   "source": [
    "# Lab | API Scavenger Game"
   ]
  },
  {
   "cell_type": "markdown",
   "metadata": {},
   "source": [
    "#### 0.- Environment"
   ]
  },
  {
   "cell_type": "code",
   "execution_count": 225,
   "metadata": {},
   "outputs": [],
   "source": [
    "import pandas as pd\n",
    "import numpy as np\n",
    "import json\n",
    "import requests\n",
    "from pandas.io.json import json_normalize\n",
    "import sys"
   ]
  },
  {
   "cell_type": "markdown",
   "metadata": {},
   "source": [
    "#### 1.- Obtain the token: OK"
   ]
  },
  {
   "cell_type": "code",
   "execution_count": 206,
   "metadata": {},
   "outputs": [],
   "source": [
    "ACCESS_TOKEN = '524ef2f0600448b9112f9e396beb5a17cb693aa5'"
   ]
  },
  {
   "cell_type": "markdown",
   "metadata": {},
   "source": [
    "#### 2.- Create a JSON file:"
   ]
  },
  {
   "cell_type": "code",
   "execution_count": 22,
   "metadata": {},
   "outputs": [
    {
     "name": "stdout",
     "output_type": "stream",
     "text": [
      "  % Total    % Received % Xferd  Average Speed   Time    Time     Time  Current\n",
      "                                 Dload  Upload   Total   Spent    Left  Speed\n",
      "100  1294  100  1294    0     0    694      0  0:00:01  0:00:01 --:--:--   694\n"
     ]
    }
   ],
   "source": [
    "#! curl -u \"paulagual:ACCESS_TOKEN\" https://api.github.com/users/paulagual > output.json"
   ]
  },
  {
   "cell_type": "code",
   "execution_count": 28,
   "metadata": {},
   "outputs": [
    {
     "name": "stdout",
     "output_type": "stream",
     "text": [
      "{\n",
      "  \"login\": \"paulagual\",\n",
      "  \"id\": 11875019,\n",
      "  \"node_id\": \"MDQ6VXNlcjExODc1MDE5\",\n",
      "  \"avatar_url\": \"https://avatars2.githubusercontent.com/u/11875019?v=4\",\n",
      "  \"gravatar_id\": \"\",\n",
      "  \"url\": \"https://api.github.com/users/paulagual\",\n",
      "  \"html_url\": \"https://github.com/paulagual\",\n",
      "  \"followers_url\": \"https://api.github.com/users/paulagual/followers\",\n",
      "  \"following_url\": \"https://api.github.com/users/paulagual/following{/other_user}\",\n",
      "  \"gists_url\": \"https://api.github.com/users/paulagual/gists{/gist_id}\",\n",
      "  \"starred_url\": \"https://api.github.com/users/paulagual/starred{/owner}{/repo}\",\n",
      "  \"subscriptions_url\": \"https://api.github.com/users/paulagual/subscriptions\",\n",
      "  \"organizations_url\": \"https://api.github.com/users/paulagual/orgs\",\n",
      "  \"repos_url\": \"https://api.github.com/users/paulagual/repos\",\n",
      "  \"events_url\": \"https://api.github.com/users/paulagual/events{/privacy}\",\n",
      "  \"received_events_url\": \"https://api.github.com/users/paulagual/received_events\",\n",
      "  \"type\": \"User\",\n",
      "  \"site_admin\": false,\n",
      "  \"name\": null,\n",
      "  \"company\": null,\n",
      "  \"blog\": \"https://kalcetin.es\",\n",
      "  \"location\": null,\n",
      "  \"email\": null,\n",
      "  \"hireable\": null,\n",
      "  \"bio\": null,\n",
      "  \"public_repos\": 29,\n",
      "  \"public_gists\": 0,\n",
      "  \"followers\": 3,\n",
      "  \"following\": 10,\n",
      "  \"created_at\": \"2015-04-09T17:30:02Z\",\n",
      "  \"updated_at\": \"2019-07-03T18:17:44Z\"\n",
      "}\n",
      "\n"
     ]
    }
   ],
   "source": [
    "file_output = open(\"output.json\", \"r\") \n",
    "print(file_output.read())"
   ]
  },
  {
   "cell_type": "markdown",
   "metadata": {},
   "source": [
    "## Challenge 1: forks"
   ]
  },
  {
   "cell_type": "markdown",
   "metadata": {},
   "source": [
    "#### 1. Obtain the full list of forks created from the main lab repo via Github API.\n"
   ]
  },
  {
   "cell_type": "code",
   "execution_count": 85,
   "metadata": {},
   "outputs": [
    {
     "name": "stdout",
     "output_type": "stream",
     "text": [
      "  % Total    % Received % Xferd  Average Speed   Time    Time     Time  Current\n",
      "                                 Dload  Upload   Total   Spent    Left  Speed\n",
      "100  155k  100  155k    0     0   117k      0  0:00:01  0:00:01 --:--:--  117k\n"
     ]
    }
   ],
   "source": [
    "#! curl -u \"paulagual:ACCESS_TOKEN\" https://api.github.com/users/ta-datapt-bcn/repos > repos_dataptbcn.json"
   ]
  },
  {
   "cell_type": "code",
   "execution_count": 87,
   "metadata": {},
   "outputs": [
    {
     "data": {
      "text/html": [
       "<div>\n",
       "<style scoped>\n",
       "    .dataframe tbody tr th:only-of-type {\n",
       "        vertical-align: middle;\n",
       "    }\n",
       "\n",
       "    .dataframe tbody tr th {\n",
       "        vertical-align: top;\n",
       "    }\n",
       "\n",
       "    .dataframe thead th {\n",
       "        text-align: right;\n",
       "    }\n",
       "</style>\n",
       "<table border=\"1\" class=\"dataframe\">\n",
       "  <thead>\n",
       "    <tr style=\"text-align: right;\">\n",
       "      <th></th>\n",
       "      <th>archive_url</th>\n",
       "      <th>archived</th>\n",
       "      <th>assignees_url</th>\n",
       "      <th>blobs_url</th>\n",
       "      <th>branches_url</th>\n",
       "      <th>clone_url</th>\n",
       "      <th>collaborators_url</th>\n",
       "      <th>comments_url</th>\n",
       "      <th>commits_url</th>\n",
       "      <th>compare_url</th>\n",
       "      <th>...</th>\n",
       "      <th>subscribers_url</th>\n",
       "      <th>subscription_url</th>\n",
       "      <th>svn_url</th>\n",
       "      <th>tags_url</th>\n",
       "      <th>teams_url</th>\n",
       "      <th>trees_url</th>\n",
       "      <th>updated_at</th>\n",
       "      <th>url</th>\n",
       "      <th>watchers</th>\n",
       "      <th>watchers_count</th>\n",
       "    </tr>\n",
       "  </thead>\n",
       "  <tbody>\n",
       "    <tr>\n",
       "      <th>0</th>\n",
       "      <td>https://api.github.com/repos/ta-datapt-bcn/dat...</td>\n",
       "      <td>False</td>\n",
       "      <td>https://api.github.com/repos/ta-datapt-bcn/dat...</td>\n",
       "      <td>https://api.github.com/repos/ta-datapt-bcn/dat...</td>\n",
       "      <td>https://api.github.com/repos/ta-datapt-bcn/dat...</td>\n",
       "      <td>https://github.com/ta-datapt-bcn/data-prework-...</td>\n",
       "      <td>https://api.github.com/repos/ta-datapt-bcn/dat...</td>\n",
       "      <td>https://api.github.com/repos/ta-datapt-bcn/dat...</td>\n",
       "      <td>https://api.github.com/repos/ta-datapt-bcn/dat...</td>\n",
       "      <td>https://api.github.com/repos/ta-datapt-bcn/dat...</td>\n",
       "      <td>...</td>\n",
       "      <td>https://api.github.com/repos/ta-datapt-bcn/dat...</td>\n",
       "      <td>https://api.github.com/repos/ta-datapt-bcn/dat...</td>\n",
       "      <td>https://github.com/ta-datapt-bcn/data-prework-...</td>\n",
       "      <td>https://api.github.com/repos/ta-datapt-bcn/dat...</td>\n",
       "      <td>https://api.github.com/repos/ta-datapt-bcn/dat...</td>\n",
       "      <td>https://api.github.com/repos/ta-datapt-bcn/dat...</td>\n",
       "      <td>2019-05-12 11:41:53</td>\n",
       "      <td>https://api.github.com/repos/ta-datapt-bcn/dat...</td>\n",
       "      <td>0</td>\n",
       "      <td>0</td>\n",
       "    </tr>\n",
       "    <tr>\n",
       "      <th>1</th>\n",
       "      <td>https://api.github.com/repos/ta-datapt-bcn/kat...</td>\n",
       "      <td>False</td>\n",
       "      <td>https://api.github.com/repos/ta-datapt-bcn/kat...</td>\n",
       "      <td>https://api.github.com/repos/ta-datapt-bcn/kat...</td>\n",
       "      <td>https://api.github.com/repos/ta-datapt-bcn/kat...</td>\n",
       "      <td>https://github.com/ta-datapt-bcn/katas_challen...</td>\n",
       "      <td>https://api.github.com/repos/ta-datapt-bcn/kat...</td>\n",
       "      <td>https://api.github.com/repos/ta-datapt-bcn/kat...</td>\n",
       "      <td>https://api.github.com/repos/ta-datapt-bcn/kat...</td>\n",
       "      <td>https://api.github.com/repos/ta-datapt-bcn/kat...</td>\n",
       "      <td>...</td>\n",
       "      <td>https://api.github.com/repos/ta-datapt-bcn/kat...</td>\n",
       "      <td>https://api.github.com/repos/ta-datapt-bcn/kat...</td>\n",
       "      <td>https://github.com/ta-datapt-bcn/katas_challenge</td>\n",
       "      <td>https://api.github.com/repos/ta-datapt-bcn/kat...</td>\n",
       "      <td>https://api.github.com/repos/ta-datapt-bcn/kat...</td>\n",
       "      <td>https://api.github.com/repos/ta-datapt-bcn/kat...</td>\n",
       "      <td>2019-07-02 18:18:25</td>\n",
       "      <td>https://api.github.com/repos/ta-datapt-bcn/kat...</td>\n",
       "      <td>1</td>\n",
       "      <td>1</td>\n",
       "    </tr>\n",
       "    <tr>\n",
       "      <th>2</th>\n",
       "      <td>https://api.github.com/repos/ta-datapt-bcn/lab...</td>\n",
       "      <td>False</td>\n",
       "      <td>https://api.github.com/repos/ta-datapt-bcn/lab...</td>\n",
       "      <td>https://api.github.com/repos/ta-datapt-bcn/lab...</td>\n",
       "      <td>https://api.github.com/repos/ta-datapt-bcn/lab...</td>\n",
       "      <td>https://github.com/ta-datapt-bcn/lab-advanced-...</td>\n",
       "      <td>https://api.github.com/repos/ta-datapt-bcn/lab...</td>\n",
       "      <td>https://api.github.com/repos/ta-datapt-bcn/lab...</td>\n",
       "      <td>https://api.github.com/repos/ta-datapt-bcn/lab...</td>\n",
       "      <td>https://api.github.com/repos/ta-datapt-bcn/lab...</td>\n",
       "      <td>...</td>\n",
       "      <td>https://api.github.com/repos/ta-datapt-bcn/lab...</td>\n",
       "      <td>https://api.github.com/repos/ta-datapt-bcn/lab...</td>\n",
       "      <td>https://github.com/ta-datapt-bcn/lab-advanced-...</td>\n",
       "      <td>https://api.github.com/repos/ta-datapt-bcn/lab...</td>\n",
       "      <td>https://api.github.com/repos/ta-datapt-bcn/lab...</td>\n",
       "      <td>https://api.github.com/repos/ta-datapt-bcn/lab...</td>\n",
       "      <td>2019-06-06 05:48:30</td>\n",
       "      <td>https://api.github.com/repos/ta-datapt-bcn/lab...</td>\n",
       "      <td>0</td>\n",
       "      <td>0</td>\n",
       "    </tr>\n",
       "    <tr>\n",
       "      <th>3</th>\n",
       "      <td>https://api.github.com/repos/ta-datapt-bcn/lab...</td>\n",
       "      <td>False</td>\n",
       "      <td>https://api.github.com/repos/ta-datapt-bcn/lab...</td>\n",
       "      <td>https://api.github.com/repos/ta-datapt-bcn/lab...</td>\n",
       "      <td>https://api.github.com/repos/ta-datapt-bcn/lab...</td>\n",
       "      <td>https://github.com/ta-datapt-bcn/lab-advanced-...</td>\n",
       "      <td>https://api.github.com/repos/ta-datapt-bcn/lab...</td>\n",
       "      <td>https://api.github.com/repos/ta-datapt-bcn/lab...</td>\n",
       "      <td>https://api.github.com/repos/ta-datapt-bcn/lab...</td>\n",
       "      <td>https://api.github.com/repos/ta-datapt-bcn/lab...</td>\n",
       "      <td>...</td>\n",
       "      <td>https://api.github.com/repos/ta-datapt-bcn/lab...</td>\n",
       "      <td>https://api.github.com/repos/ta-datapt-bcn/lab...</td>\n",
       "      <td>https://github.com/ta-datapt-bcn/lab-advanced-sql</td>\n",
       "      <td>https://api.github.com/repos/ta-datapt-bcn/lab...</td>\n",
       "      <td>https://api.github.com/repos/ta-datapt-bcn/lab...</td>\n",
       "      <td>https://api.github.com/repos/ta-datapt-bcn/lab...</td>\n",
       "      <td>2019-06-21 17:29:58</td>\n",
       "      <td>https://api.github.com/repos/ta-datapt-bcn/lab...</td>\n",
       "      <td>0</td>\n",
       "      <td>0</td>\n",
       "    </tr>\n",
       "    <tr>\n",
       "      <th>4</th>\n",
       "      <td>https://api.github.com/repos/ta-datapt-bcn/lab...</td>\n",
       "      <td>False</td>\n",
       "      <td>https://api.github.com/repos/ta-datapt-bcn/lab...</td>\n",
       "      <td>https://api.github.com/repos/ta-datapt-bcn/lab...</td>\n",
       "      <td>https://api.github.com/repos/ta-datapt-bcn/lab...</td>\n",
       "      <td>https://github.com/ta-datapt-bcn/lab-advanced-...</td>\n",
       "      <td>https://api.github.com/repos/ta-datapt-bcn/lab...</td>\n",
       "      <td>https://api.github.com/repos/ta-datapt-bcn/lab...</td>\n",
       "      <td>https://api.github.com/repos/ta-datapt-bcn/lab...</td>\n",
       "      <td>https://api.github.com/repos/ta-datapt-bcn/lab...</td>\n",
       "      <td>...</td>\n",
       "      <td>https://api.github.com/repos/ta-datapt-bcn/lab...</td>\n",
       "      <td>https://api.github.com/repos/ta-datapt-bcn/lab...</td>\n",
       "      <td>https://github.com/ta-datapt-bcn/lab-advanced-...</td>\n",
       "      <td>https://api.github.com/repos/ta-datapt-bcn/lab...</td>\n",
       "      <td>https://api.github.com/repos/ta-datapt-bcn/lab...</td>\n",
       "      <td>https://api.github.com/repos/ta-datapt-bcn/lab...</td>\n",
       "      <td>2019-07-10 16:41:22</td>\n",
       "      <td>https://api.github.com/repos/ta-datapt-bcn/lab...</td>\n",
       "      <td>0</td>\n",
       "      <td>0</td>\n",
       "    </tr>\n",
       "  </tbody>\n",
       "</table>\n",
       "<p>5 rows × 74 columns</p>\n",
       "</div>"
      ],
      "text/plain": [
       "                                         archive_url  archived  \\\n",
       "0  https://api.github.com/repos/ta-datapt-bcn/dat...     False   \n",
       "1  https://api.github.com/repos/ta-datapt-bcn/kat...     False   \n",
       "2  https://api.github.com/repos/ta-datapt-bcn/lab...     False   \n",
       "3  https://api.github.com/repos/ta-datapt-bcn/lab...     False   \n",
       "4  https://api.github.com/repos/ta-datapt-bcn/lab...     False   \n",
       "\n",
       "                                       assignees_url  \\\n",
       "0  https://api.github.com/repos/ta-datapt-bcn/dat...   \n",
       "1  https://api.github.com/repos/ta-datapt-bcn/kat...   \n",
       "2  https://api.github.com/repos/ta-datapt-bcn/lab...   \n",
       "3  https://api.github.com/repos/ta-datapt-bcn/lab...   \n",
       "4  https://api.github.com/repos/ta-datapt-bcn/lab...   \n",
       "\n",
       "                                           blobs_url  \\\n",
       "0  https://api.github.com/repos/ta-datapt-bcn/dat...   \n",
       "1  https://api.github.com/repos/ta-datapt-bcn/kat...   \n",
       "2  https://api.github.com/repos/ta-datapt-bcn/lab...   \n",
       "3  https://api.github.com/repos/ta-datapt-bcn/lab...   \n",
       "4  https://api.github.com/repos/ta-datapt-bcn/lab...   \n",
       "\n",
       "                                        branches_url  \\\n",
       "0  https://api.github.com/repos/ta-datapt-bcn/dat...   \n",
       "1  https://api.github.com/repos/ta-datapt-bcn/kat...   \n",
       "2  https://api.github.com/repos/ta-datapt-bcn/lab...   \n",
       "3  https://api.github.com/repos/ta-datapt-bcn/lab...   \n",
       "4  https://api.github.com/repos/ta-datapt-bcn/lab...   \n",
       "\n",
       "                                           clone_url  \\\n",
       "0  https://github.com/ta-datapt-bcn/data-prework-...   \n",
       "1  https://github.com/ta-datapt-bcn/katas_challen...   \n",
       "2  https://github.com/ta-datapt-bcn/lab-advanced-...   \n",
       "3  https://github.com/ta-datapt-bcn/lab-advanced-...   \n",
       "4  https://github.com/ta-datapt-bcn/lab-advanced-...   \n",
       "\n",
       "                                   collaborators_url  \\\n",
       "0  https://api.github.com/repos/ta-datapt-bcn/dat...   \n",
       "1  https://api.github.com/repos/ta-datapt-bcn/kat...   \n",
       "2  https://api.github.com/repos/ta-datapt-bcn/lab...   \n",
       "3  https://api.github.com/repos/ta-datapt-bcn/lab...   \n",
       "4  https://api.github.com/repos/ta-datapt-bcn/lab...   \n",
       "\n",
       "                                        comments_url  \\\n",
       "0  https://api.github.com/repos/ta-datapt-bcn/dat...   \n",
       "1  https://api.github.com/repos/ta-datapt-bcn/kat...   \n",
       "2  https://api.github.com/repos/ta-datapt-bcn/lab...   \n",
       "3  https://api.github.com/repos/ta-datapt-bcn/lab...   \n",
       "4  https://api.github.com/repos/ta-datapt-bcn/lab...   \n",
       "\n",
       "                                         commits_url  \\\n",
       "0  https://api.github.com/repos/ta-datapt-bcn/dat...   \n",
       "1  https://api.github.com/repos/ta-datapt-bcn/kat...   \n",
       "2  https://api.github.com/repos/ta-datapt-bcn/lab...   \n",
       "3  https://api.github.com/repos/ta-datapt-bcn/lab...   \n",
       "4  https://api.github.com/repos/ta-datapt-bcn/lab...   \n",
       "\n",
       "                                         compare_url  ...  \\\n",
       "0  https://api.github.com/repos/ta-datapt-bcn/dat...  ...   \n",
       "1  https://api.github.com/repos/ta-datapt-bcn/kat...  ...   \n",
       "2  https://api.github.com/repos/ta-datapt-bcn/lab...  ...   \n",
       "3  https://api.github.com/repos/ta-datapt-bcn/lab...  ...   \n",
       "4  https://api.github.com/repos/ta-datapt-bcn/lab...  ...   \n",
       "\n",
       "                                     subscribers_url  \\\n",
       "0  https://api.github.com/repos/ta-datapt-bcn/dat...   \n",
       "1  https://api.github.com/repos/ta-datapt-bcn/kat...   \n",
       "2  https://api.github.com/repos/ta-datapt-bcn/lab...   \n",
       "3  https://api.github.com/repos/ta-datapt-bcn/lab...   \n",
       "4  https://api.github.com/repos/ta-datapt-bcn/lab...   \n",
       "\n",
       "                                    subscription_url  \\\n",
       "0  https://api.github.com/repos/ta-datapt-bcn/dat...   \n",
       "1  https://api.github.com/repos/ta-datapt-bcn/kat...   \n",
       "2  https://api.github.com/repos/ta-datapt-bcn/lab...   \n",
       "3  https://api.github.com/repos/ta-datapt-bcn/lab...   \n",
       "4  https://api.github.com/repos/ta-datapt-bcn/lab...   \n",
       "\n",
       "                                             svn_url  \\\n",
       "0  https://github.com/ta-datapt-bcn/data-prework-...   \n",
       "1   https://github.com/ta-datapt-bcn/katas_challenge   \n",
       "2  https://github.com/ta-datapt-bcn/lab-advanced-...   \n",
       "3  https://github.com/ta-datapt-bcn/lab-advanced-sql   \n",
       "4  https://github.com/ta-datapt-bcn/lab-advanced-...   \n",
       "\n",
       "                                            tags_url  \\\n",
       "0  https://api.github.com/repos/ta-datapt-bcn/dat...   \n",
       "1  https://api.github.com/repos/ta-datapt-bcn/kat...   \n",
       "2  https://api.github.com/repos/ta-datapt-bcn/lab...   \n",
       "3  https://api.github.com/repos/ta-datapt-bcn/lab...   \n",
       "4  https://api.github.com/repos/ta-datapt-bcn/lab...   \n",
       "\n",
       "                                           teams_url  \\\n",
       "0  https://api.github.com/repos/ta-datapt-bcn/dat...   \n",
       "1  https://api.github.com/repos/ta-datapt-bcn/kat...   \n",
       "2  https://api.github.com/repos/ta-datapt-bcn/lab...   \n",
       "3  https://api.github.com/repos/ta-datapt-bcn/lab...   \n",
       "4  https://api.github.com/repos/ta-datapt-bcn/lab...   \n",
       "\n",
       "                                           trees_url          updated_at  \\\n",
       "0  https://api.github.com/repos/ta-datapt-bcn/dat... 2019-05-12 11:41:53   \n",
       "1  https://api.github.com/repos/ta-datapt-bcn/kat... 2019-07-02 18:18:25   \n",
       "2  https://api.github.com/repos/ta-datapt-bcn/lab... 2019-06-06 05:48:30   \n",
       "3  https://api.github.com/repos/ta-datapt-bcn/lab... 2019-06-21 17:29:58   \n",
       "4  https://api.github.com/repos/ta-datapt-bcn/lab... 2019-07-10 16:41:22   \n",
       "\n",
       "                                                 url watchers  watchers_count  \n",
       "0  https://api.github.com/repos/ta-datapt-bcn/dat...        0               0  \n",
       "1  https://api.github.com/repos/ta-datapt-bcn/kat...        1               1  \n",
       "2  https://api.github.com/repos/ta-datapt-bcn/lab...        0               0  \n",
       "3  https://api.github.com/repos/ta-datapt-bcn/lab...        0               0  \n",
       "4  https://api.github.com/repos/ta-datapt-bcn/lab...        0               0  \n",
       "\n",
       "[5 rows x 74 columns]"
      ]
     },
     "execution_count": 87,
     "metadata": {},
     "output_type": "execute_result"
    }
   ],
   "source": [
    "repos_dataptbcn = pd.read_json('/Users/paula/Ironhack/sesion18/lab-API-scavenger/your-code/repos_dataptbcn.json')\n",
    "repos = pd.DataFrame(repos_dataptbcn )\n",
    "repos.head()"
   ]
  },
  {
   "cell_type": "code",
   "execution_count": 88,
   "metadata": {},
   "outputs": [
    {
     "data": {
      "text/plain": [
       "Index(['archive_url', 'archived', 'assignees_url', 'blobs_url', 'branches_url',\n",
       "       'clone_url', 'collaborators_url', 'comments_url', 'commits_url',\n",
       "       'compare_url', 'contents_url', 'contributors_url', 'created_at',\n",
       "       'default_branch', 'deployments_url', 'description', 'disabled',\n",
       "       'downloads_url', 'events_url', 'fork', 'forks', 'forks_count',\n",
       "       'forks_url', 'full_name', 'git_commits_url', 'git_refs_url',\n",
       "       'git_tags_url', 'git_url', 'has_downloads', 'has_issues', 'has_pages',\n",
       "       'has_projects', 'has_wiki', 'homepage', 'hooks_url', 'html_url', 'id',\n",
       "       'issue_comment_url', 'issue_events_url', 'issues_url', 'keys_url',\n",
       "       'labels_url', 'language', 'languages_url', 'license', 'merges_url',\n",
       "       'milestones_url', 'mirror_url', 'name', 'node_id', 'notifications_url',\n",
       "       'open_issues', 'open_issues_count', 'owner', 'permissions', 'private',\n",
       "       'pulls_url', 'pushed_at', 'releases_url', 'size', 'ssh_url',\n",
       "       'stargazers_count', 'stargazers_url', 'statuses_url', 'subscribers_url',\n",
       "       'subscription_url', 'svn_url', 'tags_url', 'teams_url', 'trees_url',\n",
       "       'updated_at', 'url', 'watchers', 'watchers_count'],\n",
       "      dtype='object')"
      ]
     },
     "execution_count": 88,
     "metadata": {},
     "output_type": "execute_result"
    }
   ],
   "source": [
    "repos.columns"
   ]
  },
  {
   "cell_type": "code",
   "execution_count": 142,
   "metadata": {},
   "outputs": [
    {
     "data": {
      "text/plain": [
       "['https://api.github.com/repos/ta-datapt-bcn/data-prework-labs/forks',\n",
       " 'https://api.github.com/repos/ta-datapt-bcn/katas_challenge/forks',\n",
       " 'https://api.github.com/repos/ta-datapt-bcn/lab-advanced-regex/forks',\n",
       " 'https://api.github.com/repos/ta-datapt-bcn/lab-advanced-sql/forks',\n",
       " 'https://api.github.com/repos/ta-datapt-bcn/lab-advanced-web-scraping/forks',\n",
       " 'https://api.github.com/repos/ta-datapt-bcn/lab-API-scavenger/forks',\n",
       " 'https://api.github.com/repos/ta-datapt-bcn/lab-data-cleaning/forks',\n",
       " 'https://api.github.com/repos/ta-datapt-bcn/lab-error-handling/forks',\n",
       " 'https://api.github.com/repos/ta-datapt-bcn/lab-functional-programming/forks',\n",
       " 'https://api.github.com/repos/ta-datapt-bcn/lab-git-basics-merge-conflicts/forks',\n",
       " 'https://api.github.com/repos/ta-datapt-bcn/lab-import-export/forks',\n",
       " 'https://api.github.com/repos/ta-datapt-bcn/lab-lambda-functions/forks',\n",
       " 'https://api.github.com/repos/ta-datapt-bcn/lab-list-comprehensions/forks',\n",
       " 'https://api.github.com/repos/ta-datapt-bcn/lab-numpy/forks',\n",
       " 'https://api.github.com/repos/ta-datapt-bcn/lab-object-oriented-programming/forks',\n",
       " 'https://api.github.com/repos/ta-datapt-bcn/lab-pandas/forks',\n",
       " 'https://api.github.com/repos/ta-datapt-bcn/lab-parsing-API-data/forks',\n",
       " 'https://api.github.com/repos/ta-datapt-bcn/lab-rss-feeds/forks',\n",
       " 'https://api.github.com/repos/ta-datapt-bcn/lab-sql/forks',\n",
       " 'https://api.github.com/repos/ta-datapt-bcn/lab-sql-select/forks',\n",
       " 'https://api.github.com/repos/ta-datapt-bcn/lab-string-operations/forks',\n",
       " 'https://api.github.com/repos/ta-datapt-bcn/lab-tuple-set-dict/forks',\n",
       " 'https://api.github.com/repos/ta-datapt-bcn/lab-web-scraping/forks',\n",
       " 'https://api.github.com/repos/ta-datapt-bcn/labs_with_solutions_students/forks',\n",
       " 'https://api.github.com/repos/ta-datapt-bcn/project-pandas/forks',\n",
       " 'https://api.github.com/repos/ta-datapt-bcn/python-project/forks']"
      ]
     },
     "execution_count": 142,
     "metadata": {},
     "output_type": "execute_result"
    }
   ],
   "source": [
    "list_forks_url = [fork for fork in repos['forks_url']]\n",
    "list_forks_url"
   ]
  },
  {
   "cell_type": "markdown",
   "metadata": {},
   "source": [
    "#### 2. Loop the JSON response to find out the `language` attribute of each fork. Use an array to store the `language` attributes of each fork.\n",
    "Hint: Each language should appear only once in your array."
   ]
  },
  {
   "cell_type": "code",
   "execution_count": 143,
   "metadata": {},
   "outputs": [],
   "source": [
    "list_langs = []\n",
    "for language in repos['language']:\n",
    "    if language not in list_langs:\n",
    "        list_langs.append(language)"
   ]
  },
  {
   "cell_type": "markdown",
   "metadata": {},
   "source": [
    "#### 3. Print the language array. It should be something like:"
   ]
  },
  {
   "cell_type": "code",
   "execution_count": 144,
   "metadata": {},
   "outputs": [
    {
     "name": "stdout",
     "output_type": "stream",
     "text": [
      "['Jupyter Notebook', None, 'HTML']\n"
     ]
    }
   ],
   "source": [
    "print(list_langs)"
   ]
  },
  {
   "cell_type": "markdown",
   "metadata": {},
   "source": [
    "## Challenge 2: Commits"
   ]
  },
  {
   "cell_type": "markdown",
   "metadata": {},
   "source": [
    "#### 1. Obtain all the commits made in the past week via API, which is a JSON array that contains multiple commit objects."
   ]
  },
  {
   "cell_type": "code",
   "execution_count": 177,
   "metadata": {},
   "outputs": [
    {
     "data": {
      "text/plain": [
       "['https://api.github.com/repos/ta-datapt-bcn/data-prework-labs/commits',\n",
       " 'https://api.github.com/repos/ta-datapt-bcn/katas_challenge/commits',\n",
       " 'https://api.github.com/repos/ta-datapt-bcn/lab-advanced-regex/commits',\n",
       " 'https://api.github.com/repos/ta-datapt-bcn/lab-advanced-sql/commits',\n",
       " 'https://api.github.com/repos/ta-datapt-bcn/lab-advanced-web-scraping/commits',\n",
       " 'https://api.github.com/repos/ta-datapt-bcn/lab-API-scavenger/commits',\n",
       " 'https://api.github.com/repos/ta-datapt-bcn/lab-data-cleaning/commits',\n",
       " 'https://api.github.com/repos/ta-datapt-bcn/lab-error-handling/commits',\n",
       " 'https://api.github.com/repos/ta-datapt-bcn/lab-functional-programming/commits',\n",
       " 'https://api.github.com/repos/ta-datapt-bcn/lab-git-basics-merge-conflicts/commits',\n",
       " 'https://api.github.com/repos/ta-datapt-bcn/lab-import-export/commits',\n",
       " 'https://api.github.com/repos/ta-datapt-bcn/lab-lambda-functions/commits',\n",
       " 'https://api.github.com/repos/ta-datapt-bcn/lab-list-comprehensions/commits',\n",
       " 'https://api.github.com/repos/ta-datapt-bcn/lab-numpy/commits',\n",
       " 'https://api.github.com/repos/ta-datapt-bcn/lab-object-oriented-programming/commits',\n",
       " 'https://api.github.com/repos/ta-datapt-bcn/lab-pandas/commits',\n",
       " 'https://api.github.com/repos/ta-datapt-bcn/lab-parsing-API-data/commits',\n",
       " 'https://api.github.com/repos/ta-datapt-bcn/lab-rss-feeds/commits',\n",
       " 'https://api.github.com/repos/ta-datapt-bcn/lab-sql/commits',\n",
       " 'https://api.github.com/repos/ta-datapt-bcn/lab-sql-select/commits',\n",
       " 'https://api.github.com/repos/ta-datapt-bcn/lab-string-operations/commits',\n",
       " 'https://api.github.com/repos/ta-datapt-bcn/lab-tuple-set-dict/commits',\n",
       " 'https://api.github.com/repos/ta-datapt-bcn/lab-web-scraping/commits',\n",
       " 'https://api.github.com/repos/ta-datapt-bcn/labs_with_solutions_students/commits',\n",
       " 'https://api.github.com/repos/ta-datapt-bcn/project-pandas/commits',\n",
       " 'https://api.github.com/repos/ta-datapt-bcn/python-project/commits']"
      ]
     },
     "execution_count": 177,
     "metadata": {},
     "output_type": "execute_result"
    }
   ],
   "source": [
    "list_commits_url = [commit.replace('{/sha}','') for commit in repos['commits_url']]\n",
    "list_commits_url"
   ]
  },
  {
   "cell_type": "code",
   "execution_count": null,
   "metadata": {},
   "outputs": [],
   "source": [
    "for i in range(len(list_commits_url)): \n",
    "    c = f'! curl -u \"paulagual:ACCESS_TOKEN\" {list_commits_url[i]} > response{i}.json'\n",
    "    print(c)"
   ]
  },
  {
   "cell_type": "code",
   "execution_count": 176,
   "metadata": {},
   "outputs": [
    {
     "name": "stdout",
     "output_type": "stream",
     "text": [
      "  % Total    % Received % Xferd  Average Speed   Time    Time     Time  Current\n",
      "                                 Dload  Upload   Total   Spent    Left  Speed\n",
      "100 67293  100 67293    0     0  93582      0 --:--:-- --:--:-- --:--:-- 93462\n",
      "  % Total    % Received % Xferd  Average Speed   Time    Time     Time  Current\n",
      "                                 Dload  Upload   Total   Spent    Left  Speed\n",
      "100 23006  100 23006    0     0  35145      0 --:--:-- --:--:-- --:--:-- 35123\n",
      "  % Total    % Received % Xferd  Average Speed   Time    Time     Time  Current\n",
      "                                 Dload  Upload   Total   Spent    Left  Speed\n",
      "100  8267  100  8267    0     0  19272      0 --:--:-- --:--:-- --:--:-- 19315\n",
      "  % Total    % Received % Xferd  Average Speed   Time    Time     Time  Current\n",
      "                                 Dload  Upload   Total   Spent    Left  Speed\n",
      "100 12157  100 12157    0     0  16222      0 --:--:-- --:--:-- --:--:-- 16230\n",
      "  % Total    % Received % Xferd  Average Speed   Time    Time     Time  Current\n",
      "                                 Dload  Upload   Total   Spent    Left  Speed\n",
      "100  8354  100  8354    0     0  21108      0 --:--:-- --:--:-- --:--:-- 21095\n",
      "  % Total    % Received % Xferd  Average Speed   Time    Time     Time  Current\n",
      "                                 Dload  Upload   Total   Spent    Left  Speed\n",
      "100  8236  100  8236    0     0  18387      0 --:--:-- --:--:-- --:--:-- 18425\n",
      "  % Total    % Received % Xferd  Average Speed   Time    Time     Time  Current\n",
      "                                 Dload  Upload   Total   Spent    Left  Speed\n",
      "100  8250  100  8250    0     0  10339      0 --:--:-- --:--:-- --:--:-- 10351\n",
      "  % Total    % Received % Xferd  Average Speed   Time    Time     Time  Current\n",
      "                                 Dload  Upload   Total   Spent    Left  Speed\n",
      "100  8248  100  8248    0     0  11919      0 --:--:-- --:--:-- --:--:-- 11936\n",
      "  % Total    % Received % Xferd  Average Speed   Time    Time     Time  Current\n",
      "                                 Dload  Upload   Total   Spent    Left  Speed\n",
      "100 13084  100 13084    0     0  16141      0 --:--:-- --:--:-- --:--:-- 16133    0      0      0 --:--:-- --:--:-- --:--:--     0\n",
      "  % Total    % Received % Xferd  Average Speed   Time    Time     Time  Current\n",
      "                                 Dload  Upload   Total   Spent    Left  Speed\n",
      "100 23509  100 23509    0     0      0      0 --:--:-- --:--:-- --:--:--     0 0  25861      0 --:--:-- --:--:-- --:--:-- 25834\n",
      "  % Total    % Received % Xferd  Average Speed   Time    Time     Time  Current\n",
      "                                 Dload  Upload   Total   Spent    Left  Speed\n",
      "100  8250  100  8250    0     0  12450      0 --:--:-- --:--:-- --:--:-- 12443\n",
      "  % Total    % Received % Xferd  Average Speed   Time    Time     Time  Current\n",
      "                                 Dload  Upload   Total   Spent    Left  Speed\n",
      "100  8289  100  8289    0     0  20599      0 --:--:-- --:--:-- --:--:-- 20568\n",
      "  % Total    % Received % Xferd  Average Speed   Time    Time     Time  Current\n",
      "                                 Dload  Upload   Total   Spent    Left  Speed\n",
      "100  3643  100  3643    0     0   5269      0 --:--:-- --:--:-- --:--:--  5272\n",
      "  % Total    % Received % Xferd  Average Speed   Time    Time     Time  Current\n",
      "                                 Dload  Upload   Total   Spent    Left  Speed\n",
      "100  8146  100  8146    0     0  20171      0 --:--:-- --:--:-- --:--:-- 20213\n",
      "  % Total    % Received % Xferd  Average Speed   Time    Time     Time  Current\n",
      "                                 Dload  Upload   Total   Spent    Left  Speed\n",
      "100  8414  100  8414    0     0  22331      0 --:--:-- --:--:-- --:--:-- 22377\n",
      "  % Total    % Received % Xferd  Average Speed   Time    Time     Time  Current\n",
      "                                 Dload  Upload   Total   Spent    Left  Speed\n",
      "100  8159  100  8159    0     0  21391      0 --:--:-- --:--:-- --:--:-- 21414\n",
      "  % Total    % Received % Xferd  Average Speed   Time    Time     Time  Current\n",
      "                                 Dload  Upload   Total   Spent    Left  Speed\n",
      "100  8272  100  8272    0     0  11931      0 --:--:-- --:--:-- --:--:-- 11919\n",
      "  % Total    % Received % Xferd  Average Speed   Time    Time     Time  Current\n",
      "                                 Dload  Upload   Total   Spent    Left  Speed\n",
      "100  8192  100  8192    0     0   8225      0 --:--:-- --:--:-- --:--:--  8224\n",
      "  % Total    % Received % Xferd  Average Speed   Time    Time     Time  Current\n",
      "                                 Dload  Upload   Total   Spent    Left  Speed\n",
      "100 15826  100 15826    0     0  28891      0 --:--:-- --:--:-- --:--:-- 28879\n",
      "  % Total    % Received % Xferd  Average Speed   Time    Time     Time  Current\n",
      "                                 Dload  Upload   Total   Spent    Left  Speed\n",
      "100  8211  100  8211    0     0  14218      0 --:--:-- --:--:-- --:--:-- 14230\n",
      "  % Total    % Received % Xferd  Average Speed   Time    Time     Time  Current\n",
      "                                 Dload  Upload   Total   Spent    Left  Speed\n",
      "100  8295  100  8295    0     0  12170      0 --:--:-- --:--:-- --:--:-- 12162\n",
      "  % Total    % Received % Xferd  Average Speed   Time    Time     Time  Current\n",
      "                                 Dload  Upload   Total   Spent    Left  Speed\n",
      "100  3618  100  3618    0     0   8942      0 --:--:-- --:--:-- --:--:--  8933\n",
      "  % Total    % Received % Xferd  Average Speed   Time    Time     Time  Current\n",
      "                                 Dload  Upload   Total   Spent    Left  Speed\n",
      "100 12154  100 12154    0     0  27695      0 --:--:-- --:--:-- --:--:-- 27748\n",
      "  % Total    % Received % Xferd  Average Speed   Time    Time     Time  Current\n",
      "                                 Dload  Upload   Total   Spent    Left  Speed\n",
      "100 21947  100 21947    0     0  47985      0 --:--:-- --:--:-- --:--:-- 47919\n",
      "  % Total    % Received % Xferd  Average Speed   Time    Time     Time  Current\n",
      "                                 Dload  Upload   Total   Spent    Left  Speed\n",
      "100  8211  100  8211    0     0  15778      0 --:--:-- --:--:-- --:--:-- 15760\n",
      "  % Total    % Received % Xferd  Average Speed   Time    Time     Time  Current\n",
      "                                 Dload  Upload   Total   Spent    Left  Speed\n",
      "100 12869  100 12869    0     0  12751      0  0:00:01  0:00:01 --:--:-- 12754\n"
     ]
    }
   ],
   "source": [
    "! curl -u \"paulagual:ACCESS_TOKEN\" https://api.github.com/repos/ta-datapt-bcn/data-prework-labs/commits > response0.json\n",
    "! curl -u \"paulagual:ACCESS_TOKEN\" https://api.github.com/repos/ta-datapt-bcn/katas_challenge/commits > response1.json\n",
    "! curl -u \"paulagual:ACCESS_TOKEN\" https://api.github.com/repos/ta-datapt-bcn/lab-advanced-regex/commits > response2.json\n",
    "! curl -u \"paulagual:ACCESS_TOKEN\" https://api.github.com/repos/ta-datapt-bcn/lab-advanced-sql/commits > response3.json\n",
    "! curl -u \"paulagual:ACCESS_TOKEN\" https://api.github.com/repos/ta-datapt-bcn/lab-advanced-web-scraping/commits > response4.json\n",
    "! curl -u \"paulagual:ACCESS_TOKEN\" https://api.github.com/repos/ta-datapt-bcn/lab-API-scavenger/commits > response5.json\n",
    "! curl -u \"paulagual:ACCESS_TOKEN\" https://api.github.com/repos/ta-datapt-bcn/lab-data-cleaning/commits > response6.json\n",
    "! curl -u \"paulagual:ACCESS_TOKEN\" https://api.github.com/repos/ta-datapt-bcn/lab-error-handling/commits > response7.json\n",
    "! curl -u \"paulagual:ACCESS_TOKEN\" https://api.github.com/repos/ta-datapt-bcn/lab-functional-programming/commits > response8.json\n",
    "! curl -u \"paulagual:ACCESS_TOKEN\" https://api.github.com/repos/ta-datapt-bcn/lab-git-basics-merge-conflicts/commits > response9.json\n",
    "! curl -u \"paulagual:ACCESS_TOKEN\" https://api.github.com/repos/ta-datapt-bcn/lab-import-export/commits > response10.json\n",
    "! curl -u \"paulagual:ACCESS_TOKEN\" https://api.github.com/repos/ta-datapt-bcn/lab-lambda-functions/commits > response11.json\n",
    "! curl -u \"paulagual:ACCESS_TOKEN\" https://api.github.com/repos/ta-datapt-bcn/lab-list-comprehensions/commits > response12.json\n",
    "! curl -u \"paulagual:ACCESS_TOKEN\" https://api.github.com/repos/ta-datapt-bcn/lab-numpy/commits > response13.json\n",
    "! curl -u \"paulagual:ACCESS_TOKEN\" https://api.github.com/repos/ta-datapt-bcn/lab-object-oriented-programming/commits > response14.json\n",
    "! curl -u \"paulagual:ACCESS_TOKEN\" https://api.github.com/repos/ta-datapt-bcn/lab-pandas/commits > response15.json\n",
    "! curl -u \"paulagual:ACCESS_TOKEN\" https://api.github.com/repos/ta-datapt-bcn/lab-parsing-API-data/commits > response16.json\n",
    "! curl -u \"paulagual:ACCESS_TOKEN\" https://api.github.com/repos/ta-datapt-bcn/lab-rss-feeds/commits > response17.json\n",
    "! curl -u \"paulagual:ACCESS_TOKEN\" https://api.github.com/repos/ta-datapt-bcn/lab-sql/commits > response18.json\n",
    "! curl -u \"paulagual:ACCESS_TOKEN\" https://api.github.com/repos/ta-datapt-bcn/lab-sql-select/commits > response19.json\n",
    "! curl -u \"paulagual:ACCESS_TOKEN\" https://api.github.com/repos/ta-datapt-bcn/lab-string-operations/commits > response20.json\n",
    "! curl -u \"paulagual:ACCESS_TOKEN\" https://api.github.com/repos/ta-datapt-bcn/lab-tuple-set-dict/commits > response21.json\n",
    "! curl -u \"paulagual:ACCESS_TOKEN\" https://api.github.com/repos/ta-datapt-bcn/lab-web-scraping/commits > response22.json\n",
    "! curl -u \"paulagual:ACCESS_TOKEN\" https://api.github.com/repos/ta-datapt-bcn/labs_with_solutions_students/commits > response23.json\n",
    "! curl -u \"paulagual:ACCESS_TOKEN\" https://api.github.com/repos/ta-datapt-bcn/project-pandas/commits > response24.json\n",
    "! curl -u \"paulagual:ACCESS_TOKEN\" https://api.github.com/repos/ta-datapt-bcn/python-project/commits > response25.json"
   ]
  },
  {
   "cell_type": "code",
   "execution_count": 184,
   "metadata": {},
   "outputs": [],
   "source": [
    "list_commit_json = []\n",
    "for i in range(len(list_commits_url)):\n",
    "    file = f'response{i}.json'\n",
    "    commit_json = pd.read_json(file)\n",
    "    list_commit_json.append(commit_json)    "
   ]
  },
  {
   "cell_type": "code",
   "execution_count": 202,
   "metadata": {},
   "outputs": [
    {
     "data": {
      "text/plain": [
       "80"
      ]
     },
     "execution_count": 202,
     "metadata": {},
     "output_type": "execute_result"
    }
   ],
   "source": [
    "total_commits = 0\n",
    "for i in range(len(list_commit_json)):\n",
    "    total_commits += list_commit_json[i].count()\n",
    "total_commits[3]"
   ]
  },
  {
   "cell_type": "markdown",
   "metadata": {},
   "source": [
    "# Challenge 3: Hidden Cold Joke\n"
   ]
  },
  {
   "cell_type": "markdown",
   "metadata": {},
   "source": [
    "### Find Secret Files"
   ]
  },
  {
   "cell_type": "code",
   "execution_count": 241,
   "metadata": {},
   "outputs": [
    {
     "name": "stdout",
     "output_type": "stream",
     "text": [
      "{\r\n",
      "  \"total_count\": 0,\r\n",
      "  \"incomplete_results\": false,\r\n",
      "  \"items\": [\r\n",
      "\r\n",
      "  ]\r\n",
      "}\r\n"
     ]
    }
   ],
   "source": [
    "! curl -u \"paulagual:ACCESS_TOKEN\" https://api.github.com/search/code?q=*+in:file+filename:.scavenger+repo:ironhack-datalabs/scavenger"
   ]
  },
  {
   "cell_type": "markdown",
   "metadata": {},
   "source": [
    "**After you find out the secrete files:**\n",
    "\n",
    "1. Sort the filenames ascendingly.\n",
    "\n",
    "1. Read the content of each secret files into an array of strings.\n",
    "\n",
    "1. Concatenate the strings in the array separating each two with a whitespace.\n",
    "\n",
    "1. Print out the joke."
   ]
  },
  {
   "cell_type": "code",
   "execution_count": null,
   "metadata": {},
   "outputs": [],
   "source": []
  }
 ],
 "metadata": {
  "kernelspec": {
   "display_name": "Python 3",
   "language": "python",
   "name": "python3"
  },
  "language_info": {
   "codemirror_mode": {
    "name": "ipython",
    "version": 3
   },
   "file_extension": ".py",
   "mimetype": "text/x-python",
   "name": "python",
   "nbconvert_exporter": "python",
   "pygments_lexer": "ipython3",
   "version": "3.7.3"
  }
 },
 "nbformat": 4,
 "nbformat_minor": 2
}
